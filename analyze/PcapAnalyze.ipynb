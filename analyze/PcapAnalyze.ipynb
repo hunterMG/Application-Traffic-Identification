{
 "cells": [
  {
   "cell_type": "code",
   "execution_count": 23,
   "metadata": {},
   "outputs": [],
   "source": [
    "try:\n",
    "    import scapy.all as scapy\n",
    "except ImportError:\n",
    "    import scapy\n",
    "\n",
    "try:\n",
    "    # This import works from the project directory\n",
    "    import scapy_http.http\n",
    "except ImportError:\n",
    "    # If you installed this package via pip, you just need to execute this\n",
    "    from scapy.layers import http"
   ]
  },
  {
   "cell_type": "markdown",
   "metadata": {},
   "source": [
    "read the pcap file"
   ]
  },
  {
   "cell_type": "code",
   "execution_count": 24,
   "metadata": {},
   "outputs": [],
   "source": [
    "def get_http_payload(ether):\n",
    "    return ether.payload.payload.payload.payload\n",
    "\n",
    "def count_char(pcapFile):\n",
    "    char_set = set()\n",
    "    with scapy.PcapReader(pcapFile) as pcap_reader:\n",
    "        for pkt in pcap_reader:\n",
    "            http_payload = get_http_payload(pkt)\n",
    "            http_payload.remove_payload()\n",
    "            tmp = str(bytes(http_payload), encoding='utf-8')\n",
    "            for c in tmp:\n",
    "                char_set.add(c)\n",
    "    print(char_set)\n",
    "    print('共有字符个数：', len(char_set))\n",
    "    return(char_set)"
   ]
  },
  {
   "cell_type": "code",
   "execution_count": 25,
   "metadata": {},
   "outputs": [
    {
     "name": "stdout",
     "output_type": "stream",
     "text": [
      "{'h', 'u', '/', 'H', '-', 'G', 'S', 'P', '.', ' ', '7', ',', 'L', '3', 'B', 'Z', 'V', '*', '?', 'C', '&', 'w', 'J', 'U', ')', 'r', 'a', 'b', 'g', ':', 'A', '!', 't', 'Y', '\\n', 'j', ';', 'D', 'i', 'I', '5', '+', '@', '=', 'd', 'Q', 'M', '_', 's', '~', 'v', 'T', '1', 'k', '9', '%', 'p', 'c', '8', 'y', '\"', 'N', 'W', 'O', '\\r', 'f', 'x', 'K', '6', 'R', 'q', '4', '(', 'e', 'F', 'm', 'l', '0', 'X', 'z', 'o', 'E', 'n', '2'}\n",
      "共有字符个数： 84\n"
     ]
    }
   ],
   "source": [
    "pcapFile_weibo = \"../data/weibo_req1.pcap\"\n",
    "pcapFile_zhihu = \"../data/zhihu_req1.pcap\"\n",
    "pcapFile_tieba = \"../data/tieba_req1.pcap\"\n",
    "pcapFile_huafen = \"../data/huafen_req1.pcap\"\n",
    "pcapFile_jianshu = \"../data/jianshu_req1.pcap\"\n",
    "    \n",
    "# 统计微博http请求的字符\n",
    "weibo_set = count_char(pcapFile_weibo)"
   ]
  },
  {
   "cell_type": "code",
   "execution_count": 26,
   "metadata": {},
   "outputs": [
    {
     "name": "stdout",
     "output_type": "stream",
     "text": [
      "{'h', 'u', '/', 'G', 'H', '-', 'L', 'P', '.', ' ', '3', 'B', 'K', ',', 'V', 'S', 'Z', '*', '?', 'C', '&', 'w', 'J', 'U', ')', 'r', 'a', 'A', 'g', ':', 'b', 't', 'Y', '\\n', 'j', ';', 'D', 'i', 'I', '5', '+', '=', 'd', '2', 'M', '_', 's', 'Q', 'v', 'T', '1', 'k', '9', '%', 'p', 'c', '8', 'y', 'N', 'W', '\\r', 'f', 'O', 'x', '6', 'R', 'q', '4', '(', 'e', 'F', 'm', 'l', '0', 'X', 'z', 'o', 'E', 'n', '7'}\n",
      "共有字符个数： 80\n"
     ]
    }
   ],
   "source": [
    "# 统计知乎http请求的字符\n",
    "zhihu_set = count_char(pcapFile_zhihu)"
   ]
  },
  {
   "cell_type": "code",
   "execution_count": 27,
   "metadata": {},
   "outputs": [
    {
     "name": "stdout",
     "output_type": "stream",
     "text": [
      "{'h', 'u', '/', 'G', '-', 'H', 'K', '3', '.', ' ', '7', 'P', 'V', 'L', 'B', 'Z', '*', '?', 'C', '&', 'w', 'U', ')', 'r', 'a', 'A', 'g', 'b', ':', 't', 'Y', 'j', '\\n', ';', 'D', 'i', 'I', '5', '+', '=', 'd', 'Q', '_', 'M', 's', 'v', 'T', '1', '$', 'k', '9', '%', 'p', 'c', '8', 'y', '\"', 'N', 'W', 'f', '\\r', 'O', 'x', '6', 'R', 'q', '4', '(', 'e', 'S', 'F', 'm', 'l', '0', 'X', 'z', 'o', 'E', 'n', '2'}\n",
      "共有字符个数： 80\n"
     ]
    }
   ],
   "source": [
    "# 统计贴吧http请求的字符\n",
    "tieba_set = count_char(pcapFile_tieba)"
   ]
  },
  {
   "cell_type": "code",
   "execution_count": 28,
   "metadata": {},
   "outputs": [
    {
     "name": "stdout",
     "output_type": "stream",
     "text": [
      "{'h', 'H', '/', 'K', '-', 'G', 'S', 'P', '3', ' ', '.', 'L', '7', 'V', 'B', 'Z', ',', '*', '?', 'C', '&', 'w', 'J', 'U', ')', 'r', 'u', 'a', 'A', 'g', ':', 'b', 't', 'Y', '\\n', 'j', ';', 'D', 'i', 'I', '5', '+', '=', 'd', 'Q', '_', 'M', 's', 'v', 'T', '1', 'k', '9', '%', 'p', 'c', '8', 'y', 'N', 'W', 'O', '\\r', 'f', 'x', '6', 'q', 'R', '4', '(', 'e', 'F', 'm', 'l', '0', 'X', 'z', 'o', 'E', 'n', '2'}\n",
      "共有字符个数： 80\n"
     ]
    }
   ],
   "source": [
    "# 统计简书http请求的字符\n",
    "jianshu_set = count_char(pcapFile_jianshu)"
   ]
  },
  {
   "cell_type": "code",
   "execution_count": 29,
   "metadata": {},
   "outputs": [
    {
     "name": "stdout",
     "output_type": "stream",
     "text": [
      "{'h', 'u', '/', 'G', '-', 'H', 'L', 'P', '.', ' ', 'V', '3', 'B', 'Z', 'S', '7', ',', '*', '?', 'C', '&', 'w', 'J', 'U', ')', 'r', 'a', 'A', 'g', ':', 'b', 't', 'Y', '\\n', 'j', ';', 'D', 'i', 'I', '5', '+', '=', 'd', 'Q', '_', 'M', 's', 'v', 'T', '1', 'k', '9', 'p', 'c', '8', 'y', '\"', 'N', 'W', 'f', '\\r', 'O', 'x', 'K', 'q', '6', 'R', '4', '(', 'e', 'F', 'm', 'l', '0', 'X', 'z', 'o', 'E', 'n', '2'}\n",
      "共有字符个数： 80\n"
     ]
    }
   ],
   "source": [
    "# 统计花粉http请求的字符\n",
    "huafen_set = count_char(pcapFile_huafen)"
   ]
  },
  {
   "cell_type": "code",
   "execution_count": 30,
   "metadata": {},
   "outputs": [
    {
     "name": "stdout",
     "output_type": "stream",
     "text": [
      "{'h', '/', 'K', '?', 'J', 'b', 'A', 'g', '!', 'Y', ';', 'i', 'Q', '=', ']', 's', 'v', '$', 'f', 'R', '4', '(', '{', 'F', 'E', 'u', '@', '-', 'L', '.', '7', ')', 'U', 'a', ':', 'D', '+', '[', 'k', '%', 'p', 'y', 'x', 'n', '}', 'H', 'P', 'B', ' ', ',', 'V', '*', 'C', 'w', 'I', '5', 'd', 'T', '\"', 'N', 'W', '\\r', '6', 'e', 'l', '0', 'X', 'z', 'G', 'S', '3', 'Z', '&', 'r', 't', 'j', '\\n', '|', '_', 'M', '~', '1', '9', 'c', '8', 'O', 'q', 'm', 'o', '2'}\n",
      "90\n"
     ]
    }
   ],
   "source": [
    "# 集合所有应用出现的字符\n",
    "alphabet = weibo_set|zhihu_set|tieba_set|jianshu_set|huafen_set\n",
    "alphabet = {'c', 'h', 'z', 'd', '1', ']', '?', 'F', '+', '\"', '5', 'W', '~', '3', 'n', '9', 'Z', '*', ';', 'w', '(', 'D', 'a', '$', '\\r', 'Y', 's', 'G', 'p', 'k', 'b', 'R', '.', 'l', ',', '0', '8', 'X', 'j', 'J', 'K', 'e', 'x', 'P', '[', 'E', 'I', 'C', '/', '4', '_', 'O', 'B', 'm', '6', '{', ' ', 'S', '|', 'f', '&', 'v', ')', 'U', '7', 'N', '2', 'A', 'M', 'r', 't', 'o', 'L', 'y', 'Q', '}', '@', '=', '!', 'V', '-', 'u', 'T', 'g', '%', ':', 'q', '\\n', 'i', 'H'}\n",
    "print(alphabet)\n",
    "print(len(alphabet))"
   ]
  },
  {
   "cell_type": "code",
   "execution_count": 31,
   "metadata": {},
   "outputs": [],
   "source": [
    "# one hot encode\n",
    "char2int = dict((c, i) for (i, c) in enumerate(alphabet))\n",
    "int2char = dict((i, c) for (i, c) in enumerate(alphabet))\n",
    "\n",
    "from numpy import argmax\n",
    "\n",
    "def onehot_encode(data):\n",
    "    \"\"\"\n",
    "        data: 需要编码的字符串\n",
    "        return： 编码后的矩阵\n",
    "    \"\"\"\n",
    "    integer_encoded = [char2int[char] for char in data] # 获得对data编码的list   \n",
    "    onehot_encoded = list()\n",
    "    for value in integer_encoded:\n",
    "           letter = [0 for _ in range(len(alphabet))]   # 生成一个全0的list\n",
    "           letter[value] = 1\n",
    "           onehot_encoded.append(letter)\n",
    "    return onehot_encoded"
   ]
  },
  {
   "cell_type": "code",
   "execution_count": 32,
   "metadata": {},
   "outputs": [
    {
     "name": "stdout",
     "output_type": "stream",
     "text": [
      "[[0, 0, 0, 0, 0, 0, 0, 0, 0, 0, 0, 0, 0, 0, 0, 0, 0, 0, 0, 0, 0, 0, 0, 0, 0, 0, 0, 0, 0, 0, 0, 0, 0, 1, 0, 0, 0, 0, 0, 0, 0, 0, 0, 0, 0, 0, 0, 0, 0, 0, 0, 0, 0, 0, 0, 0, 0, 0, 0, 0, 0, 0, 0, 0, 0, 0, 0, 0, 0, 0, 0, 0, 0, 0, 0, 0, 0, 0, 0, 0, 0, 0, 0, 0, 0, 0, 0, 0, 0, 0], [0, 0, 0, 0, 0, 1, 0, 0, 0, 0, 0, 0, 0, 0, 0, 0, 0, 0, 0, 0, 0, 0, 0, 0, 0, 0, 0, 0, 0, 0, 0, 0, 0, 0, 0, 0, 0, 0, 0, 0, 0, 0, 0, 0, 0, 0, 0, 0, 0, 0, 0, 0, 0, 0, 0, 0, 0, 0, 0, 0, 0, 0, 0, 0, 0, 0, 0, 0, 0, 0, 0, 0, 0, 0, 0, 0, 0, 0, 0, 0, 0, 0, 0, 0, 0, 0, 0, 0, 0, 0], [0, 0, 0, 0, 0, 0, 0, 0, 0, 0, 0, 0, 0, 0, 0, 0, 0, 0, 0, 0, 0, 0, 0, 0, 0, 0, 0, 0, 0, 0, 0, 0, 0, 0, 0, 0, 0, 0, 0, 0, 0, 0, 0, 0, 0, 0, 0, 0, 0, 0, 0, 0, 0, 0, 0, 0, 0, 0, 0, 0, 0, 0, 0, 0, 0, 0, 0, 0, 0, 0, 0, 0, 0, 0, 0, 0, 0, 0, 0, 0, 0, 0, 0, 1, 0, 0, 0, 0, 0, 0]]\n"
     ]
    }
   ],
   "source": [
    "print(onehot_encode('abc'))"
   ]
  },
  {
   "cell_type": "code",
   "execution_count": 33,
   "metadata": {},
   "outputs": [],
   "source": [
    "# 统计http头部长度\n",
    "import numpy as np\n",
    "def count_headerlen(pcapFile):\n",
    "    header_lens = []\n",
    "    i = 0\n",
    "    with scapy.PcapReader(pcapFile) as pcap_reader:\n",
    "        for pkt in pcap_reader:\n",
    "            http_payload = get_http_payload(pkt)\n",
    "            http_payload.remove_payload()\n",
    "            tmp = str(bytes(http_payload), encoding='utf-8')\n",
    "#             if i == 149:\n",
    "#                 print(tmp)\n",
    "            header_len = len(tmp)\n",
    "            header_lens.append(header_len)\n",
    "            i += 1\n",
    "    print(max(header_lens))\n",
    "    print(min(header_lens))\n",
    "    print(np.mean(header_lens))\n",
    "    \n",
    "    return header_lens"
   ]
  },
  {
   "cell_type": "code",
   "execution_count": 34,
   "metadata": {},
   "outputs": [
    {
     "name": "stdout",
     "output_type": "stream",
     "text": [
      "1579\n",
      "127\n",
      "362.134\n"
     ]
    },
    {
     "data": {
      "text/plain": [
       "1000"
      ]
     },
     "execution_count": 34,
     "metadata": {},
     "output_type": "execute_result"
    }
   ],
   "source": [
    "a = count_headerlen(pcapFile_weibo)\n",
    "len(a)"
   ]
  },
  {
   "cell_type": "code",
   "execution_count": 35,
   "metadata": {},
   "outputs": [
    {
     "name": "stdout",
     "output_type": "stream",
     "text": [
      "644\n",
      "121\n",
      "301.755\n"
     ]
    }
   ],
   "source": [
    "tmp = count_headerlen(pcapFile_zhihu)"
   ]
  },
  {
   "cell_type": "code",
   "execution_count": 36,
   "metadata": {
    "scrolled": true
   },
   "outputs": [
    {
     "name": "stdout",
     "output_type": "stream",
     "text": [
      "644\n",
      "121\n",
      "301.755\n"
     ]
    },
    {
     "data": {
      "text/plain": [
       "(array([  1.,   0.,   0.,   2.,   0.,  15.,   4.,   0.,   1., 674.,  19.,\n",
       "          0.,   0.,   0.,   0.,   0.,   0.,   0.,   0.,   0.,   0.,  56.,\n",
       "         46.,   0.,   0.,   0.,   0.,   0.,   0.,   0.,   0.,   5.,   0.,\n",
       "          0.,   1.,   0.,   0.,   0.,   0.,   2.,   0.,   3.,   7.,   8.,\n",
       "          3.,  30., 121.,   0.,   0.,   2.]),\n",
       " array([121.  , 131.46, 141.92, 152.38, 162.84, 173.3 , 183.76, 194.22,\n",
       "        204.68, 215.14, 225.6 , 236.06, 246.52, 256.98, 267.44, 277.9 ,\n",
       "        288.36, 298.82, 309.28, 319.74, 330.2 , 340.66, 351.12, 361.58,\n",
       "        372.04, 382.5 , 392.96, 403.42, 413.88, 424.34, 434.8 , 445.26,\n",
       "        455.72, 466.18, 476.64, 487.1 , 497.56, 508.02, 518.48, 528.94,\n",
       "        539.4 , 549.86, 560.32, 570.78, 581.24, 591.7 , 602.16, 612.62,\n",
       "        623.08, 633.54, 644.  ]),\n",
       " <a list of 50 Patch objects>)"
      ]
     },
     "execution_count": 36,
     "metadata": {},
     "output_type": "execute_result"
    },
    {
     "data": {
      "image/png": "[encoded data removed]",
      "text/plain": [
       "<Figure size 432x288 with 1 Axes>"
      ]
     },
     "metadata": {},
     "output_type": "display_data"
    }
   ],
   "source": [
    "from matplotlib import pyplot as plt\n",
    "\n",
    "plt.hist(count_headerlen(pcapFile_zhihu),bins=50,color='green')"
   ]
  },
  {
   "cell_type": "code",
   "execution_count": 37,
   "metadata": {},
   "outputs": [
    {
     "name": "stdout",
     "output_type": "stream",
     "text": [
      "1579\n",
      "127\n",
      "362.134\n"
     ]
    },
    {
     "data": {
      "text/plain": [
       "(array([  4.,   0.,   0.,   2.,  84., 313., 286.,  16.,   2.,   1.,  44.,\n",
       "         81.,  30.,  83.,  13.,  24.,   0.,   0.,   0.,   0.,   0.,   0.,\n",
       "          8.,   0.,   0.,   0.,   0.,   0.,   0.,   1.,   1.,   0.,   0.,\n",
       "          1.,   1.,   0.,   0.,   1.,   0.,   0.,   1.,   0.,   0.,   1.,\n",
       "          0.,   0.,   0.,   1.,   0.,   1.]),\n",
       " array([ 127.  ,  156.04,  185.08,  214.12,  243.16,  272.2 ,  301.24,\n",
       "         330.28,  359.32,  388.36,  417.4 ,  446.44,  475.48,  504.52,\n",
       "         533.56,  562.6 ,  591.64,  620.68,  649.72,  678.76,  707.8 ,\n",
       "         736.84,  765.88,  794.92,  823.96,  853.  ,  882.04,  911.08,\n",
       "         940.12,  969.16,  998.2 , 1027.24, 1056.28, 1085.32, 1114.36,\n",
       "        1143.4 , 1172.44, 1201.48, 1230.52, 1259.56, 1288.6 , 1317.64,\n",
       "        1346.68, 1375.72, 1404.76, 1433.8 , 1462.84, 1491.88, 1520.92,\n",
       "        1549.96, 1579.  ]),\n",
       " <a list of 50 Patch objects>)"
      ]
     },
     "execution_count": 37,
     "metadata": {},
     "output_type": "execute_result"
    },
    {
     "data": {
      "image/png": "[encoded data removed]",
      "text/plain": [
       "<Figure size 432x288 with 1 Axes>"
      ]
     },
     "metadata": {},
     "output_type": "display_data"
    }
   ],
   "source": [
    "plt.hist(count_headerlen(pcapFile_weibo),bins=50,color='green')"
   ]
  },
  {
   "cell_type": "code",
   "execution_count": 38,
   "metadata": {},
   "outputs": [],
   "source": [
    "#  with scapy.PcapReader(pcapFile_weibo) as pcap_reader:\n",
    "#     for pkt in pcap_reader:\n",
    "#         http_payload = get_http_payload(pkt)\n",
    "#         http_payload.remove_payload()\n",
    "#         http_payload.delfieldval('User-Agent')\n",
    "#         print(http_payload.fields['Host'])\n",
    "#         tmp = str(bytes(http_payload), encoding='utf-8')\n",
    "#         print(tmp)\n",
    "#         break"
   ]
  },
  {
   "cell_type": "code",
   "execution_count": 40,
   "metadata": {},
   "outputs": [
    {
     "name": "stdout",
     "output_type": "stream",
     "text": [
      "1000\n",
      "2000\n",
      "3000\n",
      "4000\n",
      "5000\n",
      "(9000, 230, 90)\n"
     ]
    }
   ],
   "source": [
    "X_train = np.empty((4500, 230, 85))\n",
    "with scapy.PcapReader(pcapFile_weibo) as pcap_reader:\n",
    "    i = 0\n",
    "    for pkt in pcap_reader:\n",
    "        http_payload = get_http_payload(pkt)\n",
    "        http_payload.remove_payload()\n",
    "        tmp = str(bytes(http_payload), encoding='utf-8')\n",
    "        # 不足230个字符的以空格填充\n",
    "        tmp = tmp.ljust(230, ' ')\n",
    "        # 取前230个字符\n",
    "        tmp = tmp[:230]\n",
    "        encoded = onehot_encode(tmp)\n",
    "        np_encoded = np.array(encoded)\n",
    "        X_train[i] = np_encoded\n",
    "        i += 1\n",
    "        if i == 900:\n",
    "            break\n",
    "print(i)\n",
    "\n",
    "with scapy.PcapReader(pcapFile_zhihu) as pcap_reader:\n",
    "    for pkt in pcap_reader:\n",
    "        http_payload = get_http_payload(pkt)\n",
    "        http_payload.remove_payload()\n",
    "        tmp = str(bytes(http_payload), encoding='utf-8')\n",
    "        # 不足230个字符的以空格填充\n",
    "        tmp = tmp.ljust(230, ' ')\n",
    "        # 取前230个字符\n",
    "        tmp = tmp[:230]\n",
    "        encoded = onehot_encode(tmp)\n",
    "        np_encoded = np.array(encoded)\n",
    "        X_train[i] = np_encoded\n",
    "        i += 1\n",
    "        if i == 1800:\n",
    "            break\n",
    "print(i)\n",
    "\n",
    "with scapy.PcapReader(pcapFile_tieba) as pcap_reader:\n",
    "    for pkt in pcap_reader:\n",
    "        http_payload = get_http_payload(pkt)\n",
    "        http_payload.remove_payload()\n",
    "        tmp = str(bytes(http_payload), encoding='utf-8')\n",
    "        # 不足230个字符的以空格填充\n",
    "        tmp = tmp.ljust(230, ' ')\n",
    "        # 取前230个字符\n",
    "        tmp = tmp[:230]\n",
    "        encoded = onehot_encode(tmp)\n",
    "        np_encoded = np.array(encoded)\n",
    "        X_train[i] = np_encoded\n",
    "        i += 1\n",
    "        if i == 2700:\n",
    "            break\n",
    "print(i)\n",
    "\n",
    "with scapy.PcapReader(pcapFile_jianshu) as pcap_reader:\n",
    "    for pkt in pcap_reader:\n",
    "        http_payload = get_http_payload(pkt)\n",
    "        http_payload.remove_payload()\n",
    "        tmp = str(bytes(http_payload), encoding='utf-8')\n",
    "        # 不足230个字符的以空格填充\n",
    "        tmp = tmp.ljust(230, ' ')\n",
    "        # 取前230个字符\n",
    "        tmp = tmp[:230]\n",
    "        encoded = onehot_encode(tmp)\n",
    "        np_encoded = np.array(encoded)\n",
    "        X_train[i] = np_encoded\n",
    "        i += 1\n",
    "        if i == 3600:\n",
    "            break\n",
    "print(i)\n",
    "\n",
    "with scapy.PcapReader(pcapFile_huafen) as pcap_reader:\n",
    "    for pkt in pcap_reader:\n",
    "        http_payload = get_http_payload(pkt)\n",
    "        http_payload.remove_payload()\n",
    "        tmp = str(bytes(http_payload), encoding='utf-8')\n",
    "        # 不足230个字符的以空格填充\n",
    "        tmp = tmp.ljust(230, ' ')\n",
    "        # 取前230个字符\n",
    "        tmp = tmp[:230]\n",
    "        encoded = onehot_encode(tmp)\n",
    "        np_encoded = np.array(encoded)\n",
    "        X_train[i] = np_encoded\n",
    "        i += 1\n",
    "        if i == 4500:\n",
    "            break\n",
    "print(i)\n",
    "\n",
    "print(X_train.shape)\n",
    "\n",
    "# 保存到文件\n",
    "np.save('X_train.npy', X_train)"
   ]
  },
  {
   "cell_type": "code",
   "execution_count": null,
   "metadata": {},
   "outputs": [],
   "source": [
    "X_test = np.empty((500, 230, 85))\n",
    "with scapy.PcapReader(pcapFile_weibo) as pcap_reader:\n",
    "    i = 0\n",
    "    for pkt in pcap_reader:\n",
    "        if i >= 900:\n",
    "            http_payload = get_http_payload(pkt)\n",
    "            http_payload.remove_payload()\n",
    "            tmp = str(bytes(http_payload), encoding='utf-8')\n",
    "            # 不足230个字符的以空格填充\n",
    "            tmp = tmp.ljust(230, ' ')\n",
    "            # 取前230个字符\n",
    "            tmp = tmp[:230]\n",
    "            encoded = onehot_encode(tmp)\n",
    "            np_encoded = np.array(encoded)\n",
    "            X_test[i-900] = np_encoded\n",
    "        i += 1\n",
    "print(i)\n",
    "\n",
    "i = 0\n",
    "with scapy.PcapReader(pcapFile_zhihu) as pcap_reader:\n",
    "    for pkt in pcap_reader:\n",
    "        if i >= 900:\n",
    "            http_payload = get_http_payload(pkt)\n",
    "            http_payload.remove_payload()\n",
    "            tmp = str(bytes(http_payload), encoding='utf-8')\n",
    "            # 不足230个字符的以空格填充\n",
    "            tmp = tmp.ljust(230, ' ')\n",
    "            # 取前230个字符\n",
    "            tmp = tmp[:230]\n",
    "            encoded = onehot_encode(tmp)\n",
    "            np_encoded = np.array(encoded)\n",
    "            X_test[i-800] = np_encoded\n",
    "        i += 1\n",
    "print(i)\n",
    "\n",
    "i = 0\n",
    "with scapy.PcapReader(pcapFile_tieba) as pcap_reader:\n",
    "    for pkt in pcap_reader:\n",
    "        if i >= 900:\n",
    "            http_payload = get_http_payload(pkt)\n",
    "            http_payload.remove_payload()\n",
    "            tmp = str(bytes(http_payload), encoding='utf-8')\n",
    "            # 不足230个字符的以空格填充\n",
    "            tmp = tmp.ljust(230, ' ')\n",
    "            # 取前230个字符\n",
    "            tmp = tmp[:230]\n",
    "            encoded = onehot_encode(tmp)\n",
    "            np_encoded = np.array(encoded)\n",
    "            X_test[i-700] = np_encoded\n",
    "        i += 1\n",
    "print(i)\n",
    "\n",
    "i = 0\n",
    "with scapy.PcapReader(pcapFile_jianshu) as pcap_reader:\n",
    "    for pkt in pcap_reader:\n",
    "        if i >= 900:\n",
    "            http_payload = get_http_payload(pkt)\n",
    "            http_payload.remove_payload()\n",
    "            tmp = str(bytes(http_payload), encoding='utf-8')\n",
    "            # 不足230个字符的以空格填充\n",
    "            tmp = tmp.ljust(230, ' ')\n",
    "            # 取前230个字符\n",
    "            tmp = tmp[:230]\n",
    "            encoded = onehot_encode(tmp)\n",
    "            np_encoded = np.array(encoded)\n",
    "            X_test[i-600] = np_encoded\n",
    "        i += 1\n",
    "print(i)\n",
    "\n",
    "i = 0\n",
    "with scapy.PcapReader(pcapFile_huafen) as pcap_reader:\n",
    "    for pkt in pcap_reader:\n",
    "        if i >= 900:\n",
    "            http_payload = get_http_payload(pkt)\n",
    "            http_payload.remove_payload()\n",
    "            tmp = str(bytes(http_payload), encoding='utf-8')\n",
    "            # 不足230个字符的以空格填充\n",
    "            tmp = tmp.ljust(230, ' ')\n",
    "            # 取前230个字符\n",
    "            tmp = tmp[:230]\n",
    "            encoded = onehot_encode(tmp)\n",
    "            np_encoded = np.array(encoded)\n",
    "            X_test[i-500] = np_encoded\n",
    "        i += 1\n",
    "print(i)\n",
    "\n",
    "print(X_test.shape)\n",
    "\n",
    "# 保存到文件\n",
    "np.save('X_test.npy', X_test)"
   ]
  },
  {
   "cell_type": "code",
   "execution_count": null,
   "metadata": {},
   "outputs": [],
   "source": [
    "y_train = np.zeros(4500)\n",
    "y_train[900:1800] = np.ones(900)\n",
    "y_train[1800:2700] = np.ones(900) * 2\n",
    "y_train[2700:3600] = np.ones(900) * 3\n",
    "y_train[3600:4500] = np.ones(900) * 4\n",
    "print(len(y_train))\n",
    "print(y_train[900])\n",
    "np.save('y_train.npy', y_train)"
   ]
  },
  {
   "cell_type": "code",
   "execution_count": null,
   "metadata": {},
   "outputs": [],
   "source": [
    "y_test = np.zeros(500)\n",
    "y_test[100:200] = np.ones(100)\n",
    "y_test[200:300] = np.ones(100) * 2\n",
    "y_test[300:400] = np.ones(100) * 3\n",
    "y_test[400:500] = np.ones(100) * 3\n",
    "\n",
    "print(len(y_test))\n",
    "print(y_test[100])\n",
    "np.save('y_test.npy', y_test)"
   ]
  },
  {
   "cell_type": "code",
   "execution_count": null,
   "metadata": {},
   "outputs": [],
   "source": [
    "y_train = np.load('y_train.npy')\n",
    "print(y_train[900])\n",
    "print(type(y_train))"
   ]
  },
  {
   "cell_type": "code",
   "execution_count": null,
   "metadata": {},
   "outputs": [],
   "source": []
  }
 ],
 "metadata": {
  "kernelspec": {
   "display_name": "Python 3",
   "language": "python",
   "name": "python3"
  },
  "language_info": {
   "codemirror_mode": {
    "name": "ipython",
    "version": 3
   },
   "file_extension": ".py",
   "mimetype": "text/x-python",
   "name": "python",
   "nbconvert_exporter": "python",
   "pygments_lexer": "ipython3",
   "version": "3.6.5"
  }
 },
 "nbformat": 4,
 "nbformat_minor": 2
}
