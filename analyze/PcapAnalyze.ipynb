{
 "cells": [
  {
   "cell_type": "code",
   "execution_count": 19,
   "metadata": {},
   "outputs": [],
   "source": [
    "try:\n",
    "    import scapy.all as scapy\n",
    "except ImportError:\n",
    "    import scapy\n",
    "\n",
    "try:\n",
    "    # This import works from the project directory\n",
    "    import scapy_http.http\n",
    "except ImportError:\n",
    "    # If you installed this package via pip, you just need to execute this\n",
    "    from scapy.layers import http"
   ]
  },
  {
   "cell_type": "markdown",
   "metadata": {},
   "source": [
    "read the pcap file"
   ]
  },
  {
   "cell_type": "code",
   "execution_count": 20,
   "metadata": {},
   "outputs": [],
   "source": [
    "def get_http_payload(ether):\n",
    "    return ether.payload.payload.payload.payload\n",
    "\n",
    "def count_char(pcapFile):\n",
    "    char_set = set()\n",
    "    with scapy.PcapReader(pcapFile) as pcap_reader:\n",
    "        for pkt in pcap_reader:\n",
    "            http_payload = get_http_payload(pkt)\n",
    "            http_payload.remove_payload()\n",
    "            tmp = str(bytes(http_payload), encoding='utf-8')\n",
    "            for c in tmp:\n",
    "                char_set.add(c)\n",
    "    print(char_set)\n",
    "    print('共有字符个数：', len(char_set))\n",
    "    return(char_set)"
   ]
  },
  {
   "cell_type": "code",
   "execution_count": 21,
   "metadata": {},
   "outputs": [
    {
     "name": "stdout",
     "output_type": "stream",
     "text": [
      "{'i', 'B', 'j', '-', 'Y', 'P', '.', 'N', '8', 'n', 'T', '(', 'o', 'U', '_', '~', ':', 'E', 'R', 'b', 't', '&', 'e', '\"', 'z', ';', '4', '2', 'k', 'l', '0', 's', ')', 'Q', '+', 'G', 'u', '=', '7', 'r', '?', '{', 'A', 'S', ' ', 'y', 'h', ',', 'C', 'M', '9', 'f', 'c', 'Z', '5', 'J', '6', 'W', 'X', '\\n', 'v', 'd', '}', '1', 'F', 'w', 'p', 'D', 'K', 'g', 'L', 'q', '*', 'I', '3', 'V', '\\r', '%', 'O', 'a', 'x', 'm', 'H', '/'}\n",
      "共有字符个数： 84\n"
     ]
    }
   ],
   "source": [
    "pcapFile_weibo = \"../data/weibo_http_request.pcap\"\n",
    "pcapFile_zhihu = \"../data/zhihu/zhihu_req.pcap\"\n",
    "# 统计微博http请求的字符\n",
    "weibo_set = count_char(pcapFile_weibo)"
   ]
  },
  {
   "cell_type": "code",
   "execution_count": 22,
   "metadata": {},
   "outputs": [
    {
     "name": "stdout",
     "output_type": "stream",
     "text": [
      "{'i', 'B', 'j', '-', 'Y', 'P', '.', 'N', '8', 'n', 'T', '(', 'o', 'U', '_', 'E', ':', 'R', 'b', 't', '&', 'e', 'z', ';', '4', '2', 'k', 'l', '0', 's', ')', 'Q', '+', 'G', 'u', '=', '7', '?', 'r', 'A', 'S', ' ', 'h', 'y', ',', 'C', 'M', '9', 'f', 'c', 'Z', '5', 'J', '6', 'W', 'X', '\\n', 'v', 'd', '1', 'F', 'p', 'K', 'D', 'w', 'g', 'L', 'q', 'I', '3', 'V', '\\r', '%', 'O', 'a', 'x', 'm', 'H', '/'}\n",
      "共有字符个数： 79\n"
     ]
    }
   ],
   "source": [
    "# 统计知乎http请求的字符\n",
    "zhihu_set = count_char(pcapFile_zhihu)"
   ]
  },
  {
   "cell_type": "code",
   "execution_count": 23,
   "metadata": {},
   "outputs": [
    {
     "name": "stdout",
     "output_type": "stream",
     "text": [
      "~\n",
      "\"\n",
      "{\n",
      "}\n",
      "*\n"
     ]
    }
   ],
   "source": [
    "for c in weibo_set:\n",
    "    if c not in zhihu_set:\n",
    "        print(c)"
   ]
  },
  {
   "cell_type": "code",
   "execution_count": 24,
   "metadata": {},
   "outputs": [],
   "source": [
    "for c in zhihu_set:\n",
    "    if c not in weibo_set:\n",
    "        print(c)"
   ]
  },
  {
   "cell_type": "code",
   "execution_count": 25,
   "metadata": {},
   "outputs": [],
   "source": [
    "# one hot encode\n",
    "char2int = dict((c, i) for (i, c) in enumerate(weibo_set))\n",
    "int2char = dict((i, c) for (i, c) in enumerate(weibo_set))\n",
    "\n",
    "from numpy import argmax\n",
    "\n",
    "def onehot_encode(data):\n",
    "    \"\"\"\n",
    "        data: 需要编码的字符串\n",
    "        return： 编码后的矩阵\n",
    "    \"\"\"\n",
    "    integer_encoded = [char2int[char] for char in data] # 获得对data编码的list   \n",
    "    onehot_encoded = list()\n",
    "    for value in integer_encoded:\n",
    "           letter = [0 for _ in range(len(weibo_set))]   # 生成一个全0的list\n",
    "           letter[value] = 1\n",
    "           onehot_encoded.append(letter)\n",
    "    return onehot_encoded"
   ]
  },
  {
   "cell_type": "code",
   "execution_count": 26,
   "metadata": {},
   "outputs": [
    {
     "name": "stdout",
     "output_type": "stream",
     "text": [
      "[[0, 0, 0, 0, 0, 0, 0, 0, 0, 0, 0, 0, 0, 0, 0, 0, 0, 0, 0, 0, 0, 0, 0, 0, 0, 0, 0, 0, 0, 0, 0, 0, 0, 0, 0, 0, 0, 0, 0, 0, 0, 0, 0, 0, 0, 0, 0, 0, 0, 0, 0, 0, 0, 0, 0, 0, 0, 0, 0, 0, 0, 0, 0, 0, 0, 0, 0, 0, 0, 0, 0, 0, 0, 0, 0, 0, 0, 0, 0, 1, 0, 0, 0, 0], [0, 0, 0, 0, 0, 0, 0, 0, 0, 0, 0, 0, 0, 0, 0, 0, 0, 0, 0, 1, 0, 0, 0, 0, 0, 0, 0, 0, 0, 0, 0, 0, 0, 0, 0, 0, 0, 0, 0, 0, 0, 0, 0, 0, 0, 0, 0, 0, 0, 0, 0, 0, 0, 0, 0, 0, 0, 0, 0, 0, 0, 0, 0, 0, 0, 0, 0, 0, 0, 0, 0, 0, 0, 0, 0, 0, 0, 0, 0, 0, 0, 0, 0, 0], [0, 0, 0, 0, 0, 0, 0, 0, 0, 0, 0, 0, 0, 0, 0, 0, 0, 0, 0, 0, 0, 0, 0, 0, 0, 0, 0, 0, 0, 0, 0, 0, 0, 0, 0, 0, 0, 0, 0, 0, 0, 0, 0, 0, 0, 0, 0, 0, 0, 0, 0, 0, 1, 0, 0, 0, 0, 0, 0, 0, 0, 0, 0, 0, 0, 0, 0, 0, 0, 0, 0, 0, 0, 0, 0, 0, 0, 0, 0, 0, 0, 0, 0, 0]]\n"
     ]
    }
   ],
   "source": [
    "print(onehot_encode('abc'))"
   ]
  },
  {
   "cell_type": "code",
   "execution_count": 27,
   "metadata": {},
   "outputs": [],
   "source": [
    "# 统计http头部长度\n",
    "import numpy as np\n",
    "def count_headerlen(pcapFile):\n",
    "    header_lens = []\n",
    "    i = 0\n",
    "    with scapy.PcapReader(pcapFile) as pcap_reader:\n",
    "        for pkt in pcap_reader:\n",
    "            http_payload = get_http_payload(pkt)\n",
    "            http_payload.remove_payload()\n",
    "            tmp = str(bytes(http_payload), encoding='utf-8')\n",
    "#             if i == 149:\n",
    "#                 print(tmp)\n",
    "            header_len = len(tmp)\n",
    "            header_lens.append(header_len)\n",
    "            i += 1\n",
    "    print(max(header_lens))\n",
    "    print(min(header_lens))\n",
    "    print(np.mean(header_lens))\n",
    "    \n",
    "    return header_lens"
   ]
  },
  {
   "cell_type": "code",
   "execution_count": 28,
   "metadata": {},
   "outputs": [
    {
     "name": "stdout",
     "output_type": "stream",
     "text": [
      "2207\n",
      "151\n",
      "385.371\n"
     ]
    },
    {
     "data": {
      "text/plain": [
       "1000"
      ]
     },
     "execution_count": 28,
     "metadata": {},
     "output_type": "execute_result"
    }
   ],
   "source": [
    "a = count_headerlen(pcapFile_weibo)\n",
    "len(a)"
   ]
  },
  {
   "cell_type": "code",
   "execution_count": 29,
   "metadata": {},
   "outputs": [
    {
     "name": "stdout",
     "output_type": "stream",
     "text": [
      "817\n",
      "121\n",
      "227.215\n"
     ]
    }
   ],
   "source": [
    "tmp = count_headerlen(pcapFile_zhihu)"
   ]
  },
  {
   "cell_type": "code",
   "execution_count": 30,
   "metadata": {
    "scrolled": true
   },
   "outputs": [
    {
     "name": "stdout",
     "output_type": "stream",
     "text": [
      "817\n",
      "121\n",
      "227.215\n"
     ]
    },
    {
     "data": {
      "text/plain": [
       "(array([  1.,   0.,  10.,   0., 122.,   0.,   0., 825.,   0.,   0.,   0.,\n",
       "          0.,   0.,   0.,   0.,   0.,  14.,   0.,   0.,   0.,   0.,   0.,\n",
       "          0.,   0.,   0.,   0.,   0.,   0.,   0.,   0.,   0.,   3.,  22.,\n",
       "          0.,   0.,   0.,   0.,   0.,   0.,   0.,   0.,   0.,   0.,   0.,\n",
       "          0.,   0.,   0.,   0.,   0.,   3.]),\n",
       " array([121.  , 134.92, 148.84, 162.76, 176.68, 190.6 , 204.52, 218.44,\n",
       "        232.36, 246.28, 260.2 , 274.12, 288.04, 301.96, 315.88, 329.8 ,\n",
       "        343.72, 357.64, 371.56, 385.48, 399.4 , 413.32, 427.24, 441.16,\n",
       "        455.08, 469.  , 482.92, 496.84, 510.76, 524.68, 538.6 , 552.52,\n",
       "        566.44, 580.36, 594.28, 608.2 , 622.12, 636.04, 649.96, 663.88,\n",
       "        677.8 , 691.72, 705.64, 719.56, 733.48, 747.4 , 761.32, 775.24,\n",
       "        789.16, 803.08, 817.  ]),\n",
       " <a list of 50 Patch objects>)"
      ]
     },
     "execution_count": 30,
     "metadata": {},
     "output_type": "execute_result"
    },
    {
     "data": {
      "image/png": "[encoded data removed]",
      "text/plain": [
       "<Figure size 432x288 with 1 Axes>"
      ]
     },
     "metadata": {},
     "output_type": "display_data"
    }
   ],
   "source": [
    "from matplotlib import pyplot as plt\n",
    "\n",
    "plt.hist(count_headerlen(pcapFile_zhihu),bins=50,color='green')"
   ]
  },
  {
   "cell_type": "code",
   "execution_count": 31,
   "metadata": {},
   "outputs": [
    {
     "name": "stdout",
     "output_type": "stream",
     "text": [
      "2207\n",
      "151\n",
      "385.371\n"
     ]
    },
    {
     "data": {
      "text/plain": [
       "(array([  3.,   0.,  47., 481.,  29.,  13.,  51., 131., 144.,  75.,  12.,\n",
       "          0.,   0.,   4.,   0.,   0.,   1.,   0.,   0.,   0.,   0.,   0.,\n",
       "          0.,   0.,   0.,   8.,   0.,   0.,   0.,   0.,   0.,   0.,   0.,\n",
       "          0.,   0.,   0.,   0.,   0.,   0.,   0.,   0.,   0.,   0.,   0.,\n",
       "          0.,   0.,   0.,   0.,   0.,   1.]),\n",
       " array([ 151.  ,  192.12,  233.24,  274.36,  315.48,  356.6 ,  397.72,\n",
       "         438.84,  479.96,  521.08,  562.2 ,  603.32,  644.44,  685.56,\n",
       "         726.68,  767.8 ,  808.92,  850.04,  891.16,  932.28,  973.4 ,\n",
       "        1014.52, 1055.64, 1096.76, 1137.88, 1179.  , 1220.12, 1261.24,\n",
       "        1302.36, 1343.48, 1384.6 , 1425.72, 1466.84, 1507.96, 1549.08,\n",
       "        1590.2 , 1631.32, 1672.44, 1713.56, 1754.68, 1795.8 , 1836.92,\n",
       "        1878.04, 1919.16, 1960.28, 2001.4 , 2042.52, 2083.64, 2124.76,\n",
       "        2165.88, 2207.  ]),\n",
       " <a list of 50 Patch objects>)"
      ]
     },
     "execution_count": 31,
     "metadata": {},
     "output_type": "execute_result"
    },
    {
     "data": {
      "image/png": "[encoded data removed]",
      "text/plain": [
       "<Figure size 432x288 with 1 Axes>"
      ]
     },
     "metadata": {},
     "output_type": "display_data"
    }
   ],
   "source": [
    "plt.hist(count_headerlen(pcapFile_weibo),bins=50,color='green')"
   ]
  },
  {
   "cell_type": "code",
   "execution_count": 32,
   "metadata": {},
   "outputs": [],
   "source": [
    "#  with scapy.PcapReader(pcapFile_weibo) as pcap_reader:\n",
    "#     for pkt in pcap_reader:\n",
    "#         http_payload = get_http_payload(pkt)\n",
    "#         http_payload.remove_payload()\n",
    "#         http_payload.delfieldval('User-Agent')\n",
    "#         print(http_payload.fields['Host'])\n",
    "#         tmp = str(bytes(http_payload), encoding='utf-8')\n",
    "#         print(tmp)\n",
    "#         break"
   ]
  },
  {
   "cell_type": "code",
   "execution_count": 33,
   "metadata": {},
   "outputs": [
    {
     "name": "stdout",
     "output_type": "stream",
     "text": [
      "900\n",
      "1800\n",
      "(1800, 230, 84)\n"
     ]
    }
   ],
   "source": [
    "X_train = np.empty((1800, 230, 84))\n",
    "with scapy.PcapReader(pcapFile_weibo) as pcap_reader:\n",
    "    i = 0\n",
    "    for pkt in pcap_reader:\n",
    "        http_payload = get_http_payload(pkt)\n",
    "        http_payload.remove_payload()\n",
    "        tmp = str(bytes(http_payload), encoding='utf-8')\n",
    "        # 不足230个字符的以空格填充\n",
    "        tmp = tmp.ljust(230, ' ')\n",
    "        # 取前230个字符\n",
    "        tmp = tmp[:230]\n",
    "        encoded = onehot_encode(tmp)\n",
    "        np_encoded = np.array(encoded)\n",
    "        X_train[i] = np_encoded\n",
    "        i += 1\n",
    "        if i == 900:\n",
    "            break\n",
    "print(i)\n",
    "with scapy.PcapReader(pcapFile_zhihu) as pcap_reader:\n",
    "    for pkt in pcap_reader:\n",
    "        http_payload = get_http_payload(pkt)\n",
    "        http_payload.remove_payload()\n",
    "        tmp = str(bytes(http_payload), encoding='utf-8')\n",
    "        # 不足230个字符的以空格填充\n",
    "        tmp = tmp.ljust(230, ' ')\n",
    "        # 取前230个字符\n",
    "        tmp = tmp[:230]\n",
    "        encoded = onehot_encode(tmp)\n",
    "        np_encoded = np.array(encoded)\n",
    "        X_train[i] = np_encoded\n",
    "        i += 1\n",
    "        if i == 1800:\n",
    "            break\n",
    "print(i)\n",
    "print(X_train.shape)\n",
    "\n",
    "# 保存到文件\n",
    "np.save('X_train.npy', X_train)"
   ]
  },
  {
   "cell_type": "code",
   "execution_count": 34,
   "metadata": {},
   "outputs": [
    {
     "name": "stdout",
     "output_type": "stream",
     "text": [
      "1000\n",
      "1000\n",
      "(200, 230, 84)\n"
     ]
    }
   ],
   "source": [
    "X_test = np.empty((200, 230, 84))\n",
    "with scapy.PcapReader(pcapFile_weibo) as pcap_reader:\n",
    "    i = 0\n",
    "    for pkt in pcap_reader:\n",
    "        if i >= 900:\n",
    "            http_payload = get_http_payload(pkt)\n",
    "            http_payload.remove_payload()\n",
    "            tmp = str(bytes(http_payload), encoding='utf-8')\n",
    "            # 不足230个字符的以空格填充\n",
    "            tmp = tmp.ljust(230, ' ')\n",
    "            # 取前230个字符\n",
    "            tmp = tmp[:230]\n",
    "            encoded = onehot_encode(tmp)\n",
    "            np_encoded = np.array(encoded)\n",
    "            X_test[i-900] = np_encoded\n",
    "        i += 1\n",
    "print(i)\n",
    "i = 0\n",
    "with scapy.PcapReader(pcapFile_zhihu) as pcap_reader:\n",
    "    for pkt in pcap_reader:\n",
    "        if i >= 900:\n",
    "            http_payload = get_http_payload(pkt)\n",
    "            http_payload.remove_payload()\n",
    "            tmp = str(bytes(http_payload), encoding='utf-8')\n",
    "            # 不足230个字符的以空格填充\n",
    "            tmp = tmp.ljust(230, ' ')\n",
    "            # 取前230个字符\n",
    "            tmp = tmp[:230]\n",
    "            encoded = onehot_encode(tmp)\n",
    "            np_encoded = np.array(encoded)\n",
    "            X_test[i-900] = np_encoded\n",
    "        i += 1\n",
    "print(i)\n",
    "print(X_test.shape)\n",
    "\n",
    "# 保存到文件\n",
    "np.save('X_test.npy', X_test)"
   ]
  },
  {
   "cell_type": "code",
   "execution_count": 35,
   "metadata": {},
   "outputs": [
    {
     "name": "stdout",
     "output_type": "stream",
     "text": [
      "1800\n",
      "1.0\n"
     ]
    }
   ],
   "source": [
    "y_train = np.zeros(1800)\n",
    "y_train[900:] = np.ones(900)\n",
    "print(len(y_train))\n",
    "print(y_train[900])\n",
    "np.save('y_train.npy', y_train)"
   ]
  },
  {
   "cell_type": "code",
   "execution_count": 36,
   "metadata": {},
   "outputs": [
    {
     "name": "stdout",
     "output_type": "stream",
     "text": [
      "200\n",
      "1.0\n"
     ]
    }
   ],
   "source": [
    "y_test = np.zeros(200)\n",
    "y_test[100:] = np.ones(100)\n",
    "print(len(y_test))\n",
    "print(y_test[100])\n",
    "np.save('y_test.npy', y_test)"
   ]
  },
  {
   "cell_type": "code",
   "execution_count": 37,
   "metadata": {},
   "outputs": [
    {
     "name": "stdout",
     "output_type": "stream",
     "text": [
      "1.0\n",
      "<class 'numpy.ndarray'>\n"
     ]
    }
   ],
   "source": [
    "y_train = np.load('y_train.npy')\n",
    "print(y_train[900])\n",
    "print(type(y_train))"
   ]
  },
  {
   "cell_type": "code",
   "execution_count": null,
   "metadata": {},
   "outputs": [],
   "source": []
  }
 ],
 "metadata": {
  "kernelspec": {
   "display_name": "Python 3",
   "language": "python",
   "name": "python3"
  },
  "language_info": {
   "codemirror_mode": {
    "name": "ipython",
    "version": 3
   },
   "file_extension": ".py",
   "mimetype": "text/x-python",
   "name": "python",
   "nbconvert_exporter": "python",
   "pygments_lexer": "ipython3",
   "version": "3.6.5"
  }
 },
 "nbformat": 4,
 "nbformat_minor": 2
}
