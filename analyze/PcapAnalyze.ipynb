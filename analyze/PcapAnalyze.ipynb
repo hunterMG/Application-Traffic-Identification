{
 "cells": [
  {
   "cell_type": "code",
   "execution_count": 1,
   "metadata": {},
   "outputs": [],
   "source": [
    "try:\n",
    "    import scapy.all as scapy\n",
    "except ImportError:\n",
    "    import scapy\n",
    "\n",
    "try:\n",
    "    # This import works from the project directory\n",
    "    import scapy_http.http\n",
    "except ImportError:\n",
    "    # If you installed this package via pip, you just need to execute this\n",
    "    from scapy.layers import http"
   ]
  },
  {
   "cell_type": "markdown",
   "metadata": {},
   "source": [
    "read the pcap file"
   ]
  },
  {
   "cell_type": "code",
   "execution_count": 10,
   "metadata": {},
   "outputs": [],
   "source": [
    "def get_http_payload(ether):\n",
    "    return ether.payload.payload.payload.payload\n",
    "\n",
    "def count_char(pcapFile):\n",
    "    char_set = set()\n",
    "    with scapy.PcapReader(pcapFile) as pcap_reader:\n",
    "        for pkt in pcap_reader:\n",
    "            http_payload = get_http_payload(pkt)\n",
    "            http_payload.remove_payload(\n",
    "            )\n",
    "            tmp = str(bytes(http_payload), encoding='utf-8')\n",
    "            for c in tmp:\n",
    "                char_set.add(c)\n",
    "    print(char_set)\n",
    "    print('共有字符个数：', len(char_set))\n",
    "    return(char_set)"
   ]
  },
  {
   "cell_type": "code",
   "execution_count": 11,
   "metadata": {},
   "outputs": [
    {
     "name": "stdout",
     "output_type": "stream",
     "text": [
      "{'.', 'Y', 'D', 'k', '/', 'n', 'A', 'o', '1', 'Q', '8', '\\r', 'Z', 'x', ')', 'g', 'B', 'q', 't', 'X', 'I', '&', '~', 'K', '0', 's', 'T', 'S', 'p', 'a', 'C', ' ', '=', 'y', 'v', 'd', 'V', 'c', '9', 'f', '}', '?', 'i', '(', 'J', '2', '5', 'u', 'e', '-', 'l', '*', '\"', '{', 'w', 'R', 'j', '4', '_', 'F', 'H', 'r', '6', 'N', '3', 'E', '+', '\\n', 'L', ';', 'z', ':', '7', ',', 'O', '%', 'b', 'U', 'W', 'M', 'm', 'P', 'G', 'h'}\n",
      "共有字符个数： 84\n"
     ]
    }
   ],
   "source": [
    "pcapFile_weibo = \"../data/weibo_http_request.pcap\"\n",
    "pcapFile_zhihu = \"../data/zhihu/zhihu_req.pcap\"\n",
    "# 统计微博的字符\n",
    "weibo_set = count_char(pcapFile_weibo)"
   ]
  },
  {
   "cell_type": "code",
   "execution_count": 12,
   "metadata": {},
   "outputs": [
    {
     "name": "stdout",
     "output_type": "stream",
     "text": [
      "{'.', 'Y', 'D', 'k', '/', 'n', 'A', 'o', '1', 'Q', '8', '\\r', 'Z', 'x', ')', 'g', 'B', 'q', 't', 'X', 'I', '&', 'K', '0', 's', 'T', 'S', 'p', 'a', 'C', ' ', '=', 'v', 'y', 'd', 'V', 'c', '9', 'f', '?', 'i', '(', 'J', '2', '5', 'e', 'u', '-', 'l', 'w', 'R', 'j', '4', '_', 'F', 'H', 'r', '6', 'E', 'N', '3', '+', '\\n', 'L', '7', 'z', ':', ';', ',', 'O', '%', 'b', 'U', 'W', 'M', 'm', 'P', 'G', 'h'}\n",
      "共有字符个数： 79\n"
     ]
    }
   ],
   "source": [
    "# 统计知乎的字符\n",
    "zhihu_set = count_char(pcapFile_zhihu)"
   ]
  },
  {
   "cell_type": "code",
   "execution_count": 13,
   "metadata": {},
   "outputs": [
    {
     "name": "stdout",
     "output_type": "stream",
     "text": [
      "~\n",
      "}\n",
      "*\n",
      "\"\n",
      "{\n"
     ]
    }
   ],
   "source": [
    "for c in weibo_set:\n",
    "    if c not in zhihu_set:\n",
    "        print(c)"
   ]
  },
  {
   "cell_type": "code",
   "execution_count": 14,
   "metadata": {},
   "outputs": [],
   "source": [
    "for c in zhihu_set:\n",
    "    if c not in weibo_set:\n",
    "        print(c)"
   ]
  },
  {
   "cell_type": "code",
   "execution_count": null,
   "metadata": {},
   "outputs": [],
   "source": [
    "# one hot encode\n",
    "char2int = dict((c, i) for (c, i) in enumerate(weibo_set))\n",
    "int2char = dict((i, c) for (c, i) in enumerate(weibo_set))\n",
    "def onehot_encode(data)\n",
    "    integer_encoded = [char2int[char] for char in data] # 获得对data编码的list   \n",
    "    onehot_encoded = list()\n",
    "    for value in integer_encoded:\n",
    "           letter = [0 for _ in range(len(weibo_set))]   # 生成一个全0的list\n",
    "           letter[value] = 1\n",
    "           onehot_encoded.append(letter)\n",
    "    print(onehot_encoded)   # 对data的编码结果\n",
    "    # invert encoding (从编码获取原字符)\n",
    "    inverted = int_to_char[argmax(onehot_encoded[0])]\n",
    "    print(inverted)\n",
    "    return onehot_encoded"
   ]
  }
 ],
 "metadata": {
  "kernelspec": {
   "display_name": "Python 3",
   "language": "python",
   "name": "python3"
  },
  "language_info": {
   "codemirror_mode": {
    "name": "ipython",
    "version": 3
   },
   "file_extension": ".py",
   "mimetype": "text/x-python",
   "name": "python",
   "nbconvert_exporter": "python",
   "pygments_lexer": "ipython3",
   "version": "3.6.5"
  }
 },
 "nbformat": 4,
 "nbformat_minor": 2
}
