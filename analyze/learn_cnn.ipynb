{
 "cells": [
  {
   "cell_type": "code",
   "execution_count": 5,
   "metadata": {},
   "outputs": [],
   "source": [
    "import numpy as np\n",
    "from keras.utils import np_utils\n",
    "from keras.models import Sequential\n",
    "from keras.layers import Dense, Activation, Convolution2D, MaxPooling2D, Flatten\n",
    "from keras.optimizers import Adam"
   ]
  },
  {
   "cell_type": "code",
   "execution_count": 6,
   "metadata": {},
   "outputs": [
    {
     "name": "stdout",
     "output_type": "stream",
     "text": [
      "(4500, 230, 88)\n",
      "(4500,)\n",
      "(4500, 1, 230, 88)\n",
      "(4500, 5)\n"
     ]
    }
   ],
   "source": [
    "# 导入数据\n",
    "X_train = np.load('X_train.npy')\n",
    "y_train = np.load('y_train.npy')\n",
    "X_test = np.load('X_test.npy')\n",
    "y_test = np.load('y_test.npy')\n",
    "\n",
    "print(X_train.shape)\n",
    "print(y_train.shape)\n",
    "\n",
    "# 数据预处理\n",
    "X_train = X_train.reshape(-1, 1, 230, 88)\n",
    "y_train = np_utils.to_categorical(y_train, num_classes=5)\n",
    "X_test = X_test.reshape(-1, 1, 230, 88)\n",
    "y_test = np_utils.to_categorical(y_test, num_classes=5)\n",
    "\n",
    "print(X_train.shape)\n",
    "print(y_train.shape)"
   ]
  },
  {
   "cell_type": "code",
   "execution_count": 7,
   "metadata": {},
   "outputs": [],
   "source": [
    "# build CNN model\n",
    "model = Sequential()\n",
    "\n",
    "# Conv layer 1 output shape (32, 230, 88)\n",
    "model.add(Convolution2D(\n",
    "    batch_input_shape=(None, 1, 230, 88),\n",
    "    filters=8,\n",
    "    kernel_size=5,\n",
    "    strides=1,\n",
    "    padding='same',     # Padding method\n",
    "    data_format='channels_first',\n",
    "))\n",
    "model.add(Activation('relu'))\n",
    "\n",
    "# Pooling layer 1 (max pooling) output shape (32, 115, 44)\n",
    "model.add(MaxPooling2D(\n",
    "    pool_size=2,\n",
    "    strides=2,\n",
    "    padding='same',    # Padding method\n",
    "    data_format='channels_first',\n",
    "))\n",
    "\n",
    "# Conv layer 2 output shape (64, 14, 14)\n",
    "model.add(Convolution2D(64, 5, strides=1, padding='same', data_format='channels_first'))\n",
    "model.add(Activation('relu'))\n",
    "\n",
    "# Pooling layer 2 (max pooling) output shape (64, 7, 7)\n",
    "model.add(MaxPooling2D(2, 2, 'same', data_format='channels_first'))\n",
    "\n",
    "# Fully connected layer 1 input shape (64 * 7 * 7) = (3136), output shape (1024)\n",
    "model.add(Flatten())\n",
    "model.add(Dense(128))\n",
    "model.add(Activation('relu'))\n",
    "\n",
    "# Fully connected layer 2 to shape (10) for 10 classes\n",
    "model.add(Dense(5))\n",
    "model.add(Activation('softmax'))\n",
    "\n",
    "# define the optimizer\n",
    "adam = Adam(lr=3e-4)\n",
    "\n",
    "# add metrics to get more results\n",
    "model.compile(optimizer=adam,\n",
    "              loss='categorical_crossentropy',\n",
    "              metrics=['accuracy'])"
   ]
  },
  {
   "cell_type": "code",
   "execution_count": 8,
   "metadata": {},
   "outputs": [
    {
     "name": "stdout",
     "output_type": "stream",
     "text": [
      "Training ------------\n",
      "Epoch 1/4\n",
      "4500/4500 [==============================] - 107s 24ms/step - loss: 0.2465 - acc: 0.9176\n",
      "Epoch 2/4\n",
      "4500/4500 [==============================] - 107s 24ms/step - loss: 0.0215 - acc: 0.9938\n",
      "Epoch 3/4\n",
      "4500/4500 [==============================] - 106s 24ms/step - loss: 0.0059 - acc: 0.9989\n",
      "Epoch 4/4\n",
      "4500/4500 [==============================] - 108s 24ms/step - loss: 0.0043 - acc: 0.9993\n",
      "\n",
      "Testing ------------\n",
      "500/500 [==============================] - 7s 13ms/step\n",
      "\n",
      "test loss:  2.9585200156763314\n",
      "\n",
      "test accuracy:  0.798\n"
     ]
    }
   ],
   "source": [
    "print('Training ------------')\n",
    "# train the model\n",
    "model.fit(X_train, y_train, epochs=4, batch_size=100,)\n",
    "\n",
    "print('\\nTesting ------------')\n",
    "# Evaluate the model with the metrics defined earlier\n",
    "loss, accuracy = model.evaluate(X_test, y_test)\n",
    "\n",
    "print('\\ntest loss: ', loss)\n",
    "print('\\ntest accuracy: ', accuracy)"
   ]
  },
  {
   "cell_type": "code",
   "execution_count": null,
   "metadata": {},
   "outputs": [],
   "source": []
  }
 ],
 "metadata": {
  "kernelspec": {
   "display_name": "Python 3",
   "language": "python",
   "name": "python3"
  },
  "language_info": {
   "codemirror_mode": {
    "name": "ipython",
    "version": 3
   },
   "file_extension": ".py",
   "mimetype": "text/x-python",
   "name": "python",
   "nbconvert_exporter": "python",
   "pygments_lexer": "ipython3",
   "version": "3.6.5"
  }
 },
 "nbformat": 4,
 "nbformat_minor": 2
}
