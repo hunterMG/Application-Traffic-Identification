{
 "cells": [
  {
   "cell_type": "code",
   "execution_count": 1,
   "metadata": {},
   "outputs": [],
   "source": [
    "try:\n",
    "    import scapy.all as scapy\n",
    "except ImportError:\n",
    "    import scapy\n",
    "\n",
    "try:\n",
    "    # This import works from the project directory\n",
    "    import scapy_http.http\n",
    "except ImportError:\n",
    "    # If you installed this package via pip, you just need to execute this\n",
    "    from scapy.layers import http"
   ]
  },
  {
   "cell_type": "markdown",
   "metadata": {},
   "source": [
    "read the pcap file"
   ]
  },
  {
   "cell_type": "code",
   "execution_count": 2,
   "metadata": {},
   "outputs": [],
   "source": [
    "def get_http_payload(ether):\n",
    "    return ether.payload.payload.payload.payload\n",
    "\n",
    "def count_char(pcapFile):\n",
    "    char_set = set()\n",
    "    with scapy.PcapReader(pcapFile) as pcap_reader:\n",
    "        for pkt in pcap_reader:\n",
    "            http_payload = get_http_payload(pkt)\n",
    "            http_payload.remove_payload()\n",
    "            tmp = str(bytes(http_payload), encoding='utf-8')\n",
    "            for c in tmp:\n",
    "                char_set.add(c)\n",
    "    print(char_set)\n",
    "    print('共有字符个数：', len(char_set))\n",
    "    return(char_set)"
   ]
  },
  {
   "cell_type": "code",
   "execution_count": 3,
   "metadata": {},
   "outputs": [
    {
     "name": "stdout",
     "output_type": "stream",
     "text": [
      "{'+', ';', '%', 'r', '~', 'R', 'f', '}', 'n', 'u', 'N', 'L', '7', 'Z', '3', 'w', '!', '0', '6', 'm', 'E', ',', '{', 'b', '?', 'j', 'U', 'S', 'q', 'd', '\\n', 's', 'T', '-', 'F', 'h', '\\r', '8', 'g', '4', 'V', 'v', 't', '2', 'a', 'z', 'c', '/', '.', '_', '*', 'K', 'Q', 'y', '(', 'x', 'W', 'Y', 'i', 'M', 'A', '@', '5', ':', 'p', 'B', '9', 'H', 'J', ')', '\"', '&', 'G', 'l', 'D', 'C', '1', ' ', 'P', 'O', 'I', 'e', 'k', 'o', '=', 'X'}\n",
      "共有字符个数： 86\n"
     ]
    }
   ],
   "source": [
    "pcapFile_weibo = \"../data/weibo.pcap\"\n",
    "pcapFile_zhihu = \"../data/zhihu.pcap\"\n",
    "pcapFile_tieba = \"../data/tieba.pcap\"\n",
    "pcapFile_huafen = \"../data/huafen.pcap\"\n",
    "pcapFile_jianshu = \"../data/jianshu.pcap\"\n",
    "    \n",
    "# 统计微博http请求的字符\n",
    "weibo_set = count_char(pcapFile_weibo)"
   ]
  },
  {
   "cell_type": "code",
   "execution_count": 4,
   "metadata": {},
   "outputs": [
    {
     "name": "stdout",
     "output_type": "stream",
     "text": [
      "{'+', 'z', 'a', 'E', 'c', '9', '/', '.', 'B', 'H', ',', '_', ';', 'b', '*', '?', 'J', ')', 'K', '%', 'r', 'R', 'j', 'f', 'U', 'n', '&', 'Q', 'y', '(', 'G', 'u', 'S', 'q', 'l', 'N', 'Z', 'L', '7', 'D', 'd', '\\n', 'C', 'x', 'F', 'W', 'Y', '1', ' ', 'T', 'h', 's', 'i', 'P', '\\r', '-', '8', 'M', 'g', '4', 'A', 'I', 'O', '3', 'e', 'k', 'w', 'V', 'o', 'v', '=', '5', 't', ':', '2', '0', '6', 'p', 'X', 'm'}\n",
      "共有字符个数： 80\n"
     ]
    }
   ],
   "source": [
    "# 统计知乎http请求的字符\n",
    "zhihu_set = count_char(pcapFile_zhihu)"
   ]
  },
  {
   "cell_type": "code",
   "execution_count": 5,
   "metadata": {},
   "outputs": [
    {
     "name": "stdout",
     "output_type": "stream",
     "text": [
      "{'+', ';', '%', 'r', '~', 'R', 'f', 'n', 'u', 'N', 'L', '7', 'Z', '3', 'w', '0', '6', 'm', 'E', ',', '[', 'b', '?', 'j', 'U', 'S', 'q', '$', 'd', '\\n', 's', 'T', '-', 'F', 'h', '\\r', '8', 'g', '4', 'V', 'v', ']', 't', '2', 'a', 'z', 'c', '/', '.', '_', '*', 'K', 'Q', 'y', '(', 'x', 'W', 'Y', 'i', 'M', 'A', '5', ':', 'p', 'B', '9', 'H', 'J', ')', '\"', '&', 'G', 'l', 'D', 'C', '1', ' ', 'P', 'O', 'I', 'e', 'k', 'o', '=', 'X'}\n",
      "共有字符个数： 85\n"
     ]
    }
   ],
   "source": [
    "# 统计贴吧http请求的字符\n",
    "tieba_set = count_char(pcapFile_tieba)"
   ]
  },
  {
   "cell_type": "code",
   "execution_count": 6,
   "metadata": {},
   "outputs": [
    {
     "name": "stdout",
     "output_type": "stream",
     "text": [
      "{'+', 'a', 'z', 'c', 'E', '9', '/', '.', ',', 'H', 'B', '_', ';', 'b', '*', '?', 'J', ')', '\"', 'K', '%', 'r', 'R', 'j', 'f', 'U', 'n', '&', 'Q', 'y', 'S', 'G', 'u', '(', 'q', 'l', 'N', 'Z', 'L', '7', 'D', 'd', '\\n', 'C', 'x', 'F', 'W', 'Y', '1', 's', ' ', 'T', 'P', 'i', '-', 'O', '\\r', 'h', '8', 'g', '4', 'A', 'I', 'M', '3', 'e', 'k', 'w', 'V', 'o', 'v', '=', '5', 't', ':', '2', '6', '0', 'p', 'X', 'm'}\n",
      "共有字符个数： 81\n"
     ]
    }
   ],
   "source": [
    "# 统计简书http请求的字符\n",
    "jianshu_set = count_char(pcapFile_jianshu)"
   ]
  },
  {
   "cell_type": "code",
   "execution_count": 7,
   "metadata": {},
   "outputs": [
    {
     "name": "stdout",
     "output_type": "stream",
     "text": [
      "{'+', 'a', 'z', 'E', 'c', '9', '/', '.', 'B', 'H', ',', '_', ';', 'b', '*', '?', 'J', ')', '\"', 'K', '%', 'r', 'R', 'j', 'f', 'U', 'n', '&', 'Q', 'y', 'Z', 'G', 'u', 'S', 'q', 'l', 'N', '(', 'L', 'D', '7', 'd', '\\n', 'C', 'x', 'F', 'W', 'Y', 's', ' ', 'T', 'h', 'i', '1', 'M', '-', 'P', '8', '\\r', 'I', 'g', 'A', 'O', '4', '3', 'e', 'w', 'k', 'V', 'o', 'v', '|', '=', '5', 't', ':', '2', '6', '0', 'p', 'X', 'm'}\n",
      "共有字符个数： 82\n"
     ]
    }
   ],
   "source": [
    "# 统计花粉http请求的字符\n",
    "huafen_set = count_char(pcapFile_huafen)"
   ]
  },
  {
   "cell_type": "code",
   "execution_count": 8,
   "metadata": {},
   "outputs": [
    {
     "name": "stdout",
     "output_type": "stream",
     "text": [
      "{'+', ';', '%', 'r', '~', 'R', 'f', '}', 'n', 'u', 'N', 'L', '7', 'Z', '3', 'w', '!', '0', '6', 'm', 'E', ',', '[', '{', 'b', '?', 'j', 'U', 'S', 'q', '$', 'd', '\\n', 's', 'T', '-', 'F', 'h', '\\r', '8', 'g', '4', 'V', 'v', ']', 't', '2', 'a', 'z', 'c', '/', '.', '_', '*', 'K', 'Q', 'y', '(', 'x', 'W', 'Y', 'i', 'M', 'A', '@', '|', '5', ':', 'p', 'B', '9', 'H', 'J', ')', '\"', '&', 'G', 'l', 'D', 'C', '1', ' ', 'P', 'O', 'I', 'e', 'k', 'o', '=', 'X'}\n",
      "90\n"
     ]
    }
   ],
   "source": [
    "# 集合所有应用出现的字符\n",
    "alphabet = weibo_set|zhihu_set|tieba_set|jianshu_set|huafen_set\n",
    "alphabet = list(alphabet)\n",
    "print(alphabet)\n",
    "print(len(alphabet))"
   ]
  },
  {
   "cell_type": "code",
   "execution_count": 9,
   "metadata": {},
   "outputs": [],
   "source": [
    "# one hot encode\n",
    "char2int = dict((c, i) for (i, c) in enumerate(alphabet))\n",
    "int2char = dict((i, c) for (i, c) in enumerate(alphabet))\n",
    "\n",
    "from numpy import argmax\n",
    "\n",
    "def onehot_encode(data):\n",
    "    \"\"\"\n",
    "        data: 需要编码的字符串\n",
    "        return： 编码后的矩阵\n",
    "    \"\"\"\n",
    "    integer_encoded = [char2int[char] for char in data] # 获得对data编码的list   \n",
    "    onehot_encoded = list()\n",
    "    for value in integer_encoded:\n",
    "           letter = [0 for _ in range(len(alphabet))]   # 生成一个全0的list\n",
    "           letter[value] = 1\n",
    "           onehot_encoded.append(letter)\n",
    "    return onehot_encoded"
   ]
  },
  {
   "cell_type": "code",
   "execution_count": 10,
   "metadata": {},
   "outputs": [
    {
     "name": "stdout",
     "output_type": "stream",
     "text": [
      "[[0, 0, 0, 0, 0, 0, 0, 0, 0, 0, 0, 0, 0, 0, 0, 0, 0, 0, 0, 0, 0, 0, 0, 0, 0, 0, 0, 0, 0, 0, 0, 0, 0, 0, 0, 0, 0, 0, 0, 0, 0, 0, 0, 0, 0, 0, 0, 1, 0, 0, 0, 0, 0, 0, 0, 0, 0, 0, 0, 0, 0, 0, 0, 0, 0, 0, 0, 0, 0, 0, 0, 0, 0, 0, 0, 0, 0, 0, 0, 0, 0, 0, 0, 0, 0, 0, 0, 0, 0, 0], [0, 0, 0, 0, 0, 0, 0, 0, 0, 0, 0, 0, 0, 0, 0, 0, 0, 0, 0, 0, 0, 0, 0, 0, 1, 0, 0, 0, 0, 0, 0, 0, 0, 0, 0, 0, 0, 0, 0, 0, 0, 0, 0, 0, 0, 0, 0, 0, 0, 0, 0, 0, 0, 0, 0, 0, 0, 0, 0, 0, 0, 0, 0, 0, 0, 0, 0, 0, 0, 0, 0, 0, 0, 0, 0, 0, 0, 0, 0, 0, 0, 0, 0, 0, 0, 0, 0, 0, 0, 0], [0, 0, 0, 0, 0, 0, 0, 0, 0, 0, 0, 0, 0, 0, 0, 0, 0, 0, 0, 0, 0, 0, 0, 0, 0, 0, 0, 0, 0, 0, 0, 0, 0, 0, 0, 0, 0, 0, 0, 0, 0, 0, 0, 0, 0, 0, 0, 0, 0, 1, 0, 0, 0, 0, 0, 0, 0, 0, 0, 0, 0, 0, 0, 0, 0, 0, 0, 0, 0, 0, 0, 0, 0, 0, 0, 0, 0, 0, 0, 0, 0, 0, 0, 0, 0, 0, 0, 0, 0, 0]]\n"
     ]
    }
   ],
   "source": [
    "print(onehot_encode('abc'))"
   ]
  },
  {
   "cell_type": "code",
   "execution_count": 11,
   "metadata": {},
   "outputs": [],
   "source": [
    "# 统计http头部长度\n",
    "import numpy as np\n",
    "def count_headerlen(pcapFile):\n",
    "    header_lens = []\n",
    "    i = 0\n",
    "    with scapy.PcapReader(pcapFile) as pcap_reader:\n",
    "        for pkt in pcap_reader:\n",
    "            http_payload = get_http_payload(pkt)\n",
    "            http_payload.remove_payload()\n",
    "            tmp = str(bytes(http_payload), encoding='utf-8')\n",
    "            header_len = len(tmp)\n",
    "            header_lens.append(header_len)\n",
    "            i += 1\n",
    "    print(max(header_lens))\n",
    "    print(min(header_lens))\n",
    "    print(np.mean(header_lens))\n",
    "    \n",
    "    return header_lens"
   ]
  },
  {
   "cell_type": "code",
   "execution_count": 12,
   "metadata": {},
   "outputs": [
    {
     "name": "stdout",
     "output_type": "stream",
     "text": [
      "1565\n",
      "239\n",
      "324.895\n"
     ]
    },
    {
     "data": {
      "text/plain": [
       "2000"
      ]
     },
     "execution_count": 12,
     "metadata": {},
     "output_type": "execute_result"
    }
   ],
   "source": [
    "a = count_headerlen(pcapFile_huafen)\n",
    "len(a)"
   ]
  },
  {
   "cell_type": "code",
   "execution_count": 13,
   "metadata": {},
   "outputs": [
    {
     "name": "stdout",
     "output_type": "stream",
     "text": [
      "817\n",
      "121\n",
      "264.485\n"
     ]
    }
   ],
   "source": [
    "tmp = count_headerlen(pcapFile_zhihu)"
   ]
  },
  {
   "cell_type": "code",
   "execution_count": 14,
   "metadata": {
    "collapsed": true
   },
   "outputs": [
    {
     "name": "stdout",
     "output_type": "stream",
     "text": [
      "817\n",
      "121\n",
      "264.485\n"
     ]
    },
    {
     "data": {
      "text/plain": [
       "(array([2.000e+00, 0.000e+00, 1.200e+01, 0.000e+00, 1.410e+02, 0.000e+00,\n",
       "        1.000e+00, 1.518e+03, 0.000e+00, 0.000e+00, 0.000e+00, 0.000e+00,\n",
       "        0.000e+00, 0.000e+00, 0.000e+00, 0.000e+00, 1.160e+02, 0.000e+00,\n",
       "        0.000e+00, 0.000e+00, 0.000e+00, 0.000e+00, 0.000e+00, 5.000e+00,\n",
       "        0.000e+00, 0.000e+00, 1.000e+00, 0.000e+00, 0.000e+00, 2.000e+00,\n",
       "        0.000e+00, 1.100e+01, 3.200e+01, 3.000e+00, 1.360e+02, 1.500e+01,\n",
       "        0.000e+00, 2.000e+00, 0.000e+00, 0.000e+00, 0.000e+00, 0.000e+00,\n",
       "        0.000e+00, 0.000e+00, 0.000e+00, 0.000e+00, 0.000e+00, 0.000e+00,\n",
       "        0.000e+00, 3.000e+00]),\n",
       " array([121.  , 134.92, 148.84, 162.76, 176.68, 190.6 , 204.52, 218.44,\n",
       "        232.36, 246.28, 260.2 , 274.12, 288.04, 301.96, 315.88, 329.8 ,\n",
       "        343.72, 357.64, 371.56, 385.48, 399.4 , 413.32, 427.24, 441.16,\n",
       "        455.08, 469.  , 482.92, 496.84, 510.76, 524.68, 538.6 , 552.52,\n",
       "        566.44, 580.36, 594.28, 608.2 , 622.12, 636.04, 649.96, 663.88,\n",
       "        677.8 , 691.72, 705.64, 719.56, 733.48, 747.4 , 761.32, 775.24,\n",
       "        789.16, 803.08, 817.  ]),\n",
       " <a list of 50 Patch objects>)"
      ]
     },
     "execution_count": 14,
     "metadata": {},
     "output_type": "execute_result"
    },
    {
     "data": {
      "image/png": "[encoded data removed]",
      "text/plain": [
       "<Figure size 432x288 with 1 Axes>"
      ]
     },
     "metadata": {},
     "output_type": "display_data"
    }
   ],
   "source": [
    "from matplotlib import pyplot as plt\n",
    "\n",
    "plt.hist(count_headerlen(pcapFile_zhihu),bins=50,color='green')"
   ]
  },
  {
   "cell_type": "code",
   "execution_count": 15,
   "metadata": {
    "collapsed": true
   },
   "outputs": [
    {
     "name": "stdout",
     "output_type": "stream",
     "text": [
      "2207\n",
      "127\n",
      "373.7525\n"
     ]
    },
    {
     "data": {
      "text/plain": [
       "(array([  7.,   0.,  99., 381., 765.,  25.,   4., 114., 327., 190.,  45.,\n",
       "         12.,   0.,   4.,   0.,   8.,   0.,   1.,   0.,   0.,   1.,   1.,\n",
       "          0.,   1.,   1.,   7.,   2.,   0.,   1.,   0.,   1.,   0.,   0.,\n",
       "          1.,   1.,   0.,   0.,   0.,   0.,   0.,   0.,   0.,   0.,   0.,\n",
       "          0.,   0.,   0.,   0.,   0.,   1.]),\n",
       " array([ 127. ,  168.6,  210.2,  251.8,  293.4,  335. ,  376.6,  418.2,\n",
       "         459.8,  501.4,  543. ,  584.6,  626.2,  667.8,  709.4,  751. ,\n",
       "         792.6,  834.2,  875.8,  917.4,  959. , 1000.6, 1042.2, 1083.8,\n",
       "        1125.4, 1167. , 1208.6, 1250.2, 1291.8, 1333.4, 1375. , 1416.6,\n",
       "        1458.2, 1499.8, 1541.4, 1583. , 1624.6, 1666.2, 1707.8, 1749.4,\n",
       "        1791. , 1832.6, 1874.2, 1915.8, 1957.4, 1999. , 2040.6, 2082.2,\n",
       "        2123.8, 2165.4, 2207. ]),\n",
       " <a list of 50 Patch objects>)"
      ]
     },
     "execution_count": 15,
     "metadata": {},
     "output_type": "execute_result"
    },
    {
     "data": {
      "image/png": "[encoded data removed]",
      "text/plain": [
       "<Figure size 432x288 with 1 Axes>"
      ]
     },
     "metadata": {},
     "output_type": "display_data"
    }
   ],
   "source": [
    "plt.hist(count_headerlen(pcapFile_weibo),bins=50,color='green')"
   ]
  },
  {
   "cell_type": "code",
   "execution_count": 16,
   "metadata": {},
   "outputs": [],
   "source": [
    "def pcap_to_X(pcapFile):\n",
    "    X_tmp = np.empty((2000, 230, 90))\n",
    "    i = 0\n",
    "    with scapy.PcapReader(pcapFile) as pcap_reader:\n",
    "        for pkt in pcap_reader:\n",
    "            http_payload = get_http_payload(pkt)\n",
    "            http_payload.remove_payload()\n",
    "            tmp = str(bytes(http_payload), encoding='utf-8')\n",
    "            # 不足230个字符的以空格填充\n",
    "            tmp = tmp.ljust(230, ' ')\n",
    "            # 取前230个字符\n",
    "            tmp = tmp[:230]\n",
    "            encoded = onehot_encode(tmp)\n",
    "            np_encoded = np.array(encoded)\n",
    "            X_tmp[i] = np_encoded\n",
    "            i += 1\n",
    "        print(i)\n",
    "    return X_tmp"
   ]
  },
  {
   "cell_type": "code",
   "execution_count": 17,
   "metadata": {},
   "outputs": [
    {
     "name": "stdout",
     "output_type": "stream",
     "text": [
      "2000\n",
      "2000\n",
      "2000\n",
      "2000\n",
      "2000\n"
     ]
    }
   ],
   "source": [
    "X = np.empty((10000, 230, 90))\n",
    "\n",
    "X[0:2000] = pcap_to_X(pcapFile_weibo)\n",
    "X[2000:4000] = pcap_to_X(pcapFile_zhihu)\n",
    "X[4000:6000] = pcap_to_X(pcapFile_tieba)\n",
    "X[6000:8000] = pcap_to_X(pcapFile_jianshu)\n",
    "X[8000:] = pcap_to_X(pcapFile_huafen)\n",
    "\n",
    "y = np.zeros(10000)\n",
    "y[2000:4000] = np.ones(2000)\n",
    "y[4000:6000] = np.ones(2000) * 2\n",
    "y[6000:8000] = np.ones(2000) * 3\n",
    "y[8000:] = np.ones(2000) * 4"
   ]
  },
  {
   "cell_type": "code",
   "execution_count": 18,
   "metadata": {},
   "outputs": [],
   "source": [
    "y = np.zeros(10000)\n",
    "y[2000:4000] = np.ones(2000)\n",
    "y[4000:6000] = np.ones(2000) * 2\n",
    "y[6000:8000] = np.ones(2000) * 3\n",
    "y[8000:] = np.ones(2000) * 4\n",
    "np.save('y.npy', y)"
   ]
  },
  {
   "cell_type": "code",
   "execution_count": 19,
   "metadata": {},
   "outputs": [],
   "source": [
    "np.save('X.npy', X)\n",
    "np.save('y.npy', y)"
   ]
  },
  {
   "cell_type": "code",
   "execution_count": 20,
   "metadata": {},
   "outputs": [
    {
     "name": "stdout",
     "output_type": "stream",
     "text": [
      "0.0\n"
     ]
    }
   ],
   "source": [
    "y = np.load('y.npy')\n",
    "print(y[0])"
   ]
  },
  {
   "cell_type": "code",
   "execution_count": 21,
   "metadata": {},
   "outputs": [
    {
     "name": "stdout",
     "output_type": "stream",
     "text": [
      "4.0\n"
     ]
    }
   ],
   "source": [
    "print(y[8000])"
   ]
  },
  {
   "cell_type": "code",
   "execution_count": null,
   "metadata": {},
   "outputs": [],
   "source": []
  }
 ],
 "metadata": {
  "kernelspec": {
   "display_name": "Python 3",
   "language": "python",
   "name": "python3"
  },
  "language_info": {
   "codemirror_mode": {
    "name": "ipython",
    "version": 3
   },
   "file_extension": ".py",
   "mimetype": "text/x-python",
   "name": "python",
   "nbconvert_exporter": "python",
   "pygments_lexer": "ipython3",
   "version": "3.6.5"
  }
 },
 "nbformat": 4,
 "nbformat_minor": 2
}
